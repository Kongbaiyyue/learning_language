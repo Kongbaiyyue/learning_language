{
 "cells": [
  {
   "cell_type": "code",
   "execution_count": 2,
   "id": "f830ce6a",
   "metadata": {},
   "outputs": [
    {
     "data": {
      "text/plain": [
       "['CNC=O', 'CCNC=O', 'CNC(C)=O', 'CCNC(C)=O']"
      ]
     },
     "execution_count": 2,
     "metadata": {},
     "output_type": "execute_result"
    }
   ],
   "source": [
    "from rdkit import Chem\n",
    "from rdkit.Chem import AllChem\n",
    "\n",
    "prod = \"[CH3:17][S:14](=[O:15])(=[O:16])[N:11]1[CH2:10][CH2:9][NH:8][CH2:13][CH2:12]1\"\n",
    "reac = \"c1ccc(C[N:8]2[CH2:9][CH2:10][N:11]([S:14](=[O:15])(=[O:16])[CH3:17])[CH2:12][CH2:13]2)cc1\"\n",
    "\n",
    "template = \"[C]-[NH;D2;+0]-[C]>>[C]-[N;H0;D3;+0](-[C])-C-c1:c:c:c:c:c:1\"\n",
    "\n",
    "s1=[Chem.MolFromSmiles(x) for x in ('NC','NCC')]\n",
    "s2=[Chem.MolFromSmiles(x) for x in ('OC=O','OC(=O)C')]\n",
    "rxn = AllChem.ReactionFromSmarts('[O:2]=[C:1][OH].[N:3]>>[O:2]=[C:1][N:3]')\n",
    "r = AllChem.EnumerateLibraryFromReaction(rxn,[s2,s1])\n",
    "[Chem.MolToSmiles(x[0]) for x in list(r)]"
   ]
  },
  {
   "cell_type": "code",
   "execution_count": 1,
   "id": "7038f273",
   "metadata": {},
   "outputs": [
    {
     "name": "stdout",
     "output_type": "stream",
     "text": [
      "(10, 11, 12, 13, 14, 15)\n",
      "(20, 21, 22, 23, 24, 25)\n"
     ]
    },
    {
     "ename": "NameError",
     "evalue": "name 'mol2' is not defined",
     "output_type": "error",
     "traceback": [
      "\u001b[1;31m---------------------------------------------------------------------------\u001b[0m",
      "\u001b[1;31mNameError\u001b[0m                                 Traceback (most recent call last)",
      "\u001b[1;32m~\\AppData\\Local\\Temp\\ipykernel_34268\\1530703460.py\u001b[0m in \u001b[0;36m<module>\u001b[1;34m\u001b[0m\n\u001b[0;32m     23\u001b[0m \u001b[1;33m\u001b[0m\u001b[0m\n\u001b[0;32m     24\u001b[0m \u001b[1;31m# 打印处理后的分子的SMILES字符串\u001b[0m\u001b[1;33m\u001b[0m\u001b[1;33m\u001b[0m\u001b[1;33m\u001b[0m\u001b[0m\n\u001b[1;32m---> 25\u001b[1;33m \u001b[0mmodified_smiles\u001b[0m \u001b[1;33m=\u001b[0m \u001b[0mChem\u001b[0m\u001b[1;33m.\u001b[0m\u001b[0mMolToSmiles\u001b[0m\u001b[1;33m(\u001b[0m\u001b[0mmol2\u001b[0m\u001b[1;33m)\u001b[0m\u001b[1;33m\u001b[0m\u001b[1;33m\u001b[0m\u001b[0m\n\u001b[0m\u001b[0;32m     26\u001b[0m \u001b[0mprint\u001b[0m\u001b[1;33m(\u001b[0m\u001b[1;34m\"Modified SMILES:\"\u001b[0m\u001b[1;33m,\u001b[0m \u001b[0mmodified_smiles\u001b[0m\u001b[1;33m)\u001b[0m\u001b[1;33m\u001b[0m\u001b[1;33m\u001b[0m\u001b[0m\n\u001b[0;32m     27\u001b[0m \u001b[1;33m\u001b[0m\u001b[0m\n",
      "\u001b[1;31mNameError\u001b[0m: name 'mol2' is not defined"
     ]
    }
   ],
   "source": [
    "from rdkit import Chem\n",
    "from rdkit.Chem import Draw\n",
    "\n",
    "# 定义待处理的SMILES字符串\n",
    "smiles = \"Clc1cnc2nc1NCCc1cccc(c1)OCCCc1cccc(c1)N2\"\n",
    "\n",
    "# 将SMILES字符串转换为RDKit的分子对象\n",
    "mol = Chem.MolFromSmiles(smiles)\n",
    "\n",
    "\n",
    "# 定义待移除的子结构的SMILES字符串\n",
    "substructure_smiles = \"c1ccccc1\"  # 在这里使用您想要去除的子结构的SMILES\n",
    "\n",
    "# 将待移除的子结构转换为RDKit的分子对象\n",
    "substructure = Chem.MolFromSmiles(substructure_smiles)\n",
    "\n",
    "# 使用RDKit进行子结构匹配和去除\n",
    "matches = mol.GetSubstructMatches(substructure)\n",
    "for match in matches:\n",
    "    print(match)\n",
    "    # 移除匹配到的子结构\n",
    "    mol3 = Chem.DeleteSubstructs(mol, substructure)\n",
    "\n",
    "# 打印处理后的分子的SMILES字符串\n",
    "modified_smiles = Chem.MolToSmiles(mol2)\n",
    "print(\"Modified SMILES:\", modified_smiles)\n",
    "\n",
    "# 可选：显示处理后的分子结构\n",
    "modified_mol = Chem.MolFromSmiles(modified_smiles)\n",
    "# Draw.MolToImage(modified_mol)\n",
    "\n",
    "# mol = Chem.MolFromSmiles(smiles)\n",
    "\n",
    "mol_list = [modified_mol, mol, substructure]\n",
    "image = Draw.MolsToGridImage(mol_list)\n",
    "image\n",
    "# Draw.MolToImage(mol)"
   ]
  },
  {
   "cell_type": "code",
   "execution_count": null,
   "id": "575af21e",
   "metadata": {},
   "outputs": [],
   "source": []
  }
 ],
 "metadata": {
  "kernelspec": {
   "display_name": "Python 3 (ipykernel)",
   "language": "python",
   "name": "python3"
  },
  "language_info": {
   "codemirror_mode": {
    "name": "ipython",
    "version": 3
   },
   "file_extension": ".py",
   "mimetype": "text/x-python",
   "name": "python",
   "nbconvert_exporter": "python",
   "pygments_lexer": "ipython3",
   "version": "3.7.13"
  }
 },
 "nbformat": 4,
 "nbformat_minor": 5
}
