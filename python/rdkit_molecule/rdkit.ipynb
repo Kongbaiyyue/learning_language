{
 "cells": [
  {
   "cell_type": "code",
   "execution_count": 1,
   "id": "f830ce6a",
   "metadata": {},
   "outputs": [
    {
     "data": {
      "text/plain": [
       "['CNC=O', 'CCNC=O', 'CNC(C)=O', 'CCNC(C)=O']"
      ]
     },
     "execution_count": 1,
     "metadata": {},
     "output_type": "execute_result"
    }
   ],
   "source": [
    "from rdkit import Chem\n",
    "from rdkit.Chem import AllChem\n",
    "\n",
    "prod = \"[CH3:17][S:14](=[O:15])(=[O:16])[N:11]1[CH2:10][CH2:9][NH:8][CH2:13][CH2:12]1\"\n",
    "reac = \"c1ccc(C[N:8]2[CH2:9][CH2:10][N:11]([S:14](=[O:15])(=[O:16])[CH3:17])[CH2:12][CH2:13]2)cc1\"\n",
    "\n",
    "template = \"[C]-[NH;D2;+0]-[C]>>[C]-[N;H0;D3;+0](-[C])-C-c1:c:c:c:c:c:1\"\n",
    "\n",
    "s1=[Chem.MolFromSmiles(x) for x in ('NC','NCC')]\n",
    "s2=[Chem.MolFromSmiles(x) for x in ('OC=O','OC(=O)C')]\n",
    "rxn = AllChem.ReactionFromSmarts('[O:2]=[C:1][OH].[N:3]>>[O:2]=[C:1][N:3]')\n",
    "r = AllChem.EnumerateLibraryFromReaction(rxn,[s2,s1])\n",
    "[Chem.MolToSmiles(x[0]) for x in list(r)]"
   ]
  }
 ],
 "metadata": {
  "kernelspec": {
   "display_name": "Python [conda env:.conda-jupyter] *",
   "language": "python",
   "name": "conda-env-.conda-jupyter-py"
  },
  "language_info": {
   "codemirror_mode": {
    "name": "ipython",
    "version": 3
   },
   "file_extension": ".py",
   "mimetype": "text/x-python",
   "name": "python",
   "nbconvert_exporter": "python",
   "pygments_lexer": "ipython3",
   "version": "3.7.13"
  }
 },
 "nbformat": 4,
 "nbformat_minor": 5
}
