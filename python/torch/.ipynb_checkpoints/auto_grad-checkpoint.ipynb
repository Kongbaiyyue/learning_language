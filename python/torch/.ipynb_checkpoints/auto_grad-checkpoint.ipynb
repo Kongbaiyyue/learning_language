{
 "cells": [
  {
   "cell_type": "code",
   "execution_count": 5,
   "id": "08142a81",
   "metadata": {},
   "outputs": [],
   "source": [
    "import torch"
   ]
  },
  {
   "cell_type": "code",
   "execution_count": 29,
   "id": "2a2842c7",
   "metadata": {},
   "outputs": [],
   "source": [
    "a = torch.tensor(2.)"
   ]
  },
  {
   "cell_type": "code",
   "execution_count": 33,
   "id": "e1ceab50",
   "metadata": {},
   "outputs": [],
   "source": [
    "a.requires_grad = True"
   ]
  },
  {
   "cell_type": "code",
   "execution_count": 34,
   "id": "0934602c",
   "metadata": {},
   "outputs": [
    {
     "data": {
      "text/plain": [
       "True"
      ]
     },
     "execution_count": 34,
     "metadata": {},
     "output_type": "execute_result"
    }
   ],
   "source": [
    "b = a**2 + 1\n",
    "b.requires_grad"
   ]
  },
  {
   "cell_type": "code",
   "execution_count": 35,
   "id": "6b14dff9",
   "metadata": {},
   "outputs": [
    {
     "data": {
      "text/plain": [
       "tensor(5., grad_fn=<AddBackward0>)"
      ]
     },
     "execution_count": 35,
     "metadata": {},
     "output_type": "execute_result"
    }
   ],
   "source": [
    "b"
   ]
  },
  {
   "cell_type": "code",
   "execution_count": null,
   "id": "6871d781",
   "metadata": {},
   "outputs": [],
   "source": []
  },
  {
   "cell_type": "code",
   "execution_count": 36,
   "id": "efe68d8f",
   "metadata": {},
   "outputs": [],
   "source": [
    "b.backward()"
   ]
  },
  {
   "cell_type": "code",
   "execution_count": 38,
   "id": "0a2ef4db",
   "metadata": {},
   "outputs": [
    {
     "data": {
      "text/plain": [
       "tensor(4.)"
      ]
     },
     "execution_count": 38,
     "metadata": {},
     "output_type": "execute_result"
    }
   ],
   "source": [
    "a.grad"
   ]
  },
  {
   "cell_type": "code",
   "execution_count": 39,
   "id": "bde64cf5",
   "metadata": {},
   "outputs": [
    {
     "data": {
      "text/plain": [
       "tensor([2., 5.], grad_fn=<AddBackward0>)"
      ]
     },
     "execution_count": 39,
     "metadata": {},
     "output_type": "execute_result"
    }
   ],
   "source": [
    "# 一维以上张量求导\n",
    "a = torch.tensor([1., 2.], requires_grad=True)\n",
    "b = a**2 + 1\n",
    "b"
   ]
  },
  {
   "cell_type": "code",
   "execution_count": 42,
   "id": "6d6119b7",
   "metadata": {},
   "outputs": [
    {
     "data": {
      "text/plain": [
       "False"
      ]
     },
     "execution_count": 42,
     "metadata": {},
     "output_type": "execute_result"
    }
   ],
   "source": [
    "b.is_leaf"
   ]
  },
  {
   "cell_type": "code",
   "execution_count": 45,
   "id": "8194c70f",
   "metadata": {},
   "outputs": [
    {
     "data": {
      "text/plain": [
       "tensor([12.])"
      ]
     },
     "execution_count": 45,
     "metadata": {},
     "output_type": "execute_result"
    }
   ],
   "source": [
    "# 叶子节点不能进行原位操作，如果进行原位操作，数据的值会被改变，但是反向传播会用到叶子节点的数据，会根据叶子节点的地址来取出叶子节点的值，叶子节点值的改变会导致计算错误。\n",
    "w = torch.tensor([1.], requires_grad=True)\n",
    "x = torch.tensor([2.], requires_grad=True)\n",
    "\n",
    "a = torch.mul(w, x)\n",
    "b = torch.add(w, 1)\n",
    "\n",
    "y0 = torch.mul(a, b)\n",
    "y1 = torch.add(a, b)\n",
    "loss = torch.cat([y0, y1], dim=0)\n",
    "grad_tensor = torch.tensor([1., 2.]) # 多个梯度，权重的设置\n",
    "\n",
    "loss.backward(gradient=grad_tensor)\n",
    "\n",
    "w.grad"
   ]
  },
  {
   "cell_type": "code",
   "execution_count": 74,
   "id": "3da04743",
   "metadata": {},
   "outputs": [
    {
     "data": {
      "text/plain": [
       "(tensor([27.], grad_fn=<MulBackward0>),)"
      ]
     },
     "execution_count": 74,
     "metadata": {},
     "output_type": "execute_result"
    }
   ],
   "source": [
    "x = torch.tensor([3.], requires_grad=True)\n",
    "y = torch.pow(x, 3)\n",
    "\n",
    "grad_1 = torch.autograd.grad(y, x, create_graph=True)\n",
    "grad_1"
   ]
  },
  {
   "cell_type": "code",
   "execution_count": 67,
   "id": "174dbb7f",
   "metadata": {},
   "outputs": [
    {
     "data": {
      "text/plain": [
       "(tensor([18.]),)"
      ]
     },
     "execution_count": 67,
     "metadata": {},
     "output_type": "execute_result"
    }
   ],
   "source": [
    "grad_2 = torch.autograd.grad(grad_1[0], x)\n",
    "grad_2"
   ]
  }
 ],
 "metadata": {
  "kernelspec": {
   "display_name": "Python [conda env:.conda-jupyter] *",
   "language": "python",
   "name": "conda-env-.conda-jupyter-py"
  },
  "language_info": {
   "codemirror_mode": {
    "name": "ipython",
    "version": 3
   },
   "file_extension": ".py",
   "mimetype": "text/x-python",
   "name": "python",
   "nbconvert_exporter": "python",
   "pygments_lexer": "ipython3",
   "version": "3.7.13"
  }
 },
 "nbformat": 4,
 "nbformat_minor": 5
}
