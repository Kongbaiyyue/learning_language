{
 "cells": [
  {
   "cell_type": "code",
   "execution_count": 7,
   "metadata": {},
   "outputs": [],
   "source": [
    "import pandas as pd\n",
    "import rdkit\n",
    "from rdkit import Chem\n",
    "\n",
    "def function_1(smi):\n",
    "    # 将带有原子编号的SMILES转换为分子对象\n",
    "    mol = Chem.MolFromSmiles(smi)\n",
    "    # img = Draw.MolToImage(mol)\n",
    "    # img.show()\n",
    "    for atom in mol.GetAtoms():\n",
    "        atom.SetAtomMapNum(0)\n",
    "\n",
    "    # 将分子对象转换为没有原子编号的SMILES\n",
    "    smiles = Chem.MolToSmiles(mol, canonical=True)\n",
    "    \n",
    "    return smiles"
   ]
  },
  {
   "cell_type": "code",
   "execution_count": 20,
   "metadata": {},
   "outputs": [
    {
     "name": "stdout",
     "output_type": "stream",
     "text": [
      "2137\n"
     ]
    }
   ],
   "source": [
    "from numpy import product\n",
    "\n",
    "\n",
    "train_df = pd.read_csv('raw_train.csv')\n",
    "valid_df = pd.read_csv('raw_val.csv')\n",
    "test_df = pd.read_csv('raw_test.csv')\n",
    "\n",
    "reaction_set = set()\n",
    "\n",
    "for i in range(train_df.shape[0]):\n",
    "    reaction = train_df[\"reactants>reagents>production\"][i].strip().split(\">\")\n",
    "    reactants = reaction[0]\n",
    "    reactants = function_1(reactants)\n",
    "    products = reaction[2]\n",
    "    products = function_1(products)\n",
    "    reaction_set.add(products + reactants)\n",
    "\n",
    "for i in range(valid_df.shape[0]):\n",
    "    reaction = valid_df[\"reactants>reagents>production\"][i].strip().split(\">\")\n",
    "    reactants = reaction[0]\n",
    "    reactants = function_1(reactants)\n",
    "    products = reaction[2]\n",
    "    products = function_1(products)\n",
    "    reaction_set.add(products + reactants)\n",
    "    \n",
    "for i in range(test_df.shape[0]):\n",
    "    reaction = test_df[\"reactants>reagents>production\"][i].strip().split(\">\")\n",
    "    reactants = reaction[0]\n",
    "    reactants = function_1(reactants)\n",
    "    products = reaction[2]\n",
    "    products = function_1(products)\n",
    "    reaction_set.add(products + reactants)\n",
    "# print(reaction_set)\n",
    "\n",
    "df_50k = pd.read_csv(\"retro_uspto_50_template_md.csv\")\n",
    "count = 0\n",
    "for i in range(df_50k.shape[0]):\n",
    "    products = df_50k[\"products_mol\"][i]\n",
    "    reactants = df_50k[\"reactants_mol\"][i]\n",
    "    if (products + reactants) not in reaction_set:\n",
    "        count += 1\n",
    "print(count)"
   ]
  },
  {
   "cell_type": "code",
   "execution_count": 23,
   "metadata": {},
   "outputs": [
    {
     "name": "stdout",
     "output_type": "stream",
     "text": [
      "None\n",
      "11\n"
     ]
    }
   ],
   "source": [
    "product_mol = \"1cc2c1\"\n",
    "c = Chem.MolFromSmiles(product_mol)\n",
    "print(c)\n",
    "print(11)\n"
   ]
  }
 ],
 "metadata": {
  "kernelspec": {
   "display_name": "GTA",
   "language": "python",
   "name": "python3"
  },
  "language_info": {
   "codemirror_mode": {
    "name": "ipython",
    "version": 3
   },
   "file_extension": ".py",
   "mimetype": "text/x-python",
   "name": "python",
   "nbconvert_exporter": "python",
   "pygments_lexer": "ipython3",
   "version": "3.7.13"
  },
  "orig_nbformat": 4
 },
 "nbformat": 4,
 "nbformat_minor": 2
}
